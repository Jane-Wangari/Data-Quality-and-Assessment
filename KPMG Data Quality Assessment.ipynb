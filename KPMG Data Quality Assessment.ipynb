{
 "cells": [
  {
   "cell_type": "markdown",
   "id": "97bedf1e",
   "metadata": {},
   "source": [
    "# Sprocket Central Pty Ltd Data Quality Assessment"
   ]
  },
  {
   "cell_type": "markdown",
   "id": "f49f3739",
   "metadata": {},
   "source": [
    "## Task\n",
    "The client has asked our team to assess the quality of their data; as well as make recommendations on ways to clean the underlying data and mitigate these issues.  Can you please take a look at the datasets we’ve received and draft an email to them identifying the data quality issues and how this may impact our analysis going forward?\n",
    "\n",
    "Can you please review the data quality to ensure that it is ready for our analysis in phase two. Remember to take note of any assumptions or issues we need to go back to the client on. As well as recommendations going forward to mitigate current data quality concerns."
   ]
  },
  {
   "cell_type": "markdown",
   "id": "1f3e5b8d",
   "metadata": {},
   "source": [
    "## Data Overview\n",
    "##### The workbook contains the following datasets:\n",
    "\n",
    "- Customer Demographic \n",
    "- Customer Addresses\n",
    "- Transaction data in the past three months\n"
   ]
  },
  {
   "cell_type": "markdown",
   "id": "ed07daa6",
   "metadata": {},
   "source": [
    "### Problem Statement\n",
    "Identifying the data quality issues and strategies to mitigate these issues."
   ]
  },
  {
   "cell_type": "code",
   "execution_count": 1,
   "id": "cc3f9a3a",
   "metadata": {},
   "outputs": [],
   "source": [
    "#Libraries\n",
    "import pandas as pd\n",
    "import numpy as np\n",
    "import matplotlib.pyplot as plt"
   ]
  },
  {
   "cell_type": "code",
   "execution_count": 2,
   "id": "96e3ab6d",
   "metadata": {},
   "outputs": [
    {
     "data": {
      "text/plain": [
       "<pandas.io.excel._base.ExcelFile at 0x1dd1720e850>"
      ]
     },
     "execution_count": 2,
     "metadata": {},
     "output_type": "execute_result"
    }
   ],
   "source": [
    "# The excel file containing the data\n",
    "xlsx = pd.ExcelFile(\"KPMG_VI_New_raw_data_update_final.xlsx\")\n",
    "xlsx"
   ]
  },
  {
   "cell_type": "code",
   "execution_count": 3,
   "id": "ac9cfcc7",
   "metadata": {},
   "outputs": [],
   "source": [
    "#Load different excel sheets\n",
    "t_df = pd.read_excel(xlsx, 'Transactions')\n",
    "nc_df = pd.read_excel(xlsx, 'NewCustomerList')\n",
    "cd_df = pd.read_excel(xlsx, 'CustomerDemographic')\n",
    "ca_df = pd.read_excel(xlsx, 'CustomerAddress')"
   ]
  },
  {
   "cell_type": "code",
   "execution_count": 4,
   "id": "9370c192",
   "metadata": {},
   "outputs": [],
   "source": [
    "#Use first row as columns\n",
    "t_df.columns = t_df.iloc[0]\n",
    "nc_df.columns = nc_df.iloc[0]\n",
    "cd_df.columns = cd_df.iloc[0]\n",
    "ca_df.columns = ca_df.iloc[0]"
   ]
  },
  {
   "cell_type": "markdown",
   "id": "4a52df19",
   "metadata": {},
   "source": [
    "# 1. Data quality and assessment of Transaction data"
   ]
  },
  {
   "cell_type": "code",
   "execution_count": 5,
   "id": "5128f526",
   "metadata": {},
   "outputs": [
    {
     "data": {
      "text/html": [
       "<div>\n",
       "<style scoped>\n",
       "    .dataframe tbody tr th:only-of-type {\n",
       "        vertical-align: middle;\n",
       "    }\n",
       "\n",
       "    .dataframe tbody tr th {\n",
       "        vertical-align: top;\n",
       "    }\n",
       "\n",
       "    .dataframe thead th {\n",
       "        text-align: right;\n",
       "    }\n",
       "</style>\n",
       "<table border=\"1\" class=\"dataframe\">\n",
       "  <thead>\n",
       "    <tr style=\"text-align: right;\">\n",
       "      <th></th>\n",
       "      <th>transaction_id</th>\n",
       "      <th>product_id</th>\n",
       "      <th>customer_id</th>\n",
       "      <th>transaction_date</th>\n",
       "      <th>online_order</th>\n",
       "      <th>order_status</th>\n",
       "      <th>brand</th>\n",
       "      <th>product_line</th>\n",
       "      <th>product_class</th>\n",
       "      <th>product_size</th>\n",
       "      <th>list_price</th>\n",
       "      <th>standard_cost</th>\n",
       "      <th>product_first_sold_date</th>\n",
       "    </tr>\n",
       "  </thead>\n",
       "  <tbody>\n",
       "    <tr>\n",
       "      <th>0</th>\n",
       "      <td>transaction_id</td>\n",
       "      <td>product_id</td>\n",
       "      <td>customer_id</td>\n",
       "      <td>transaction_date</td>\n",
       "      <td>online_order</td>\n",
       "      <td>order_status</td>\n",
       "      <td>brand</td>\n",
       "      <td>product_line</td>\n",
       "      <td>product_class</td>\n",
       "      <td>product_size</td>\n",
       "      <td>list_price</td>\n",
       "      <td>standard_cost</td>\n",
       "      <td>product_first_sold_date</td>\n",
       "    </tr>\n",
       "    <tr>\n",
       "      <th>1</th>\n",
       "      <td>1</td>\n",
       "      <td>2</td>\n",
       "      <td>2950</td>\n",
       "      <td>2017-02-25 00:00:00</td>\n",
       "      <td>False</td>\n",
       "      <td>Approved</td>\n",
       "      <td>Solex</td>\n",
       "      <td>Standard</td>\n",
       "      <td>medium</td>\n",
       "      <td>medium</td>\n",
       "      <td>71.49</td>\n",
       "      <td>53.62</td>\n",
       "      <td>41245</td>\n",
       "    </tr>\n",
       "    <tr>\n",
       "      <th>2</th>\n",
       "      <td>2</td>\n",
       "      <td>3</td>\n",
       "      <td>3120</td>\n",
       "      <td>2017-05-21 00:00:00</td>\n",
       "      <td>True</td>\n",
       "      <td>Approved</td>\n",
       "      <td>Trek Bicycles</td>\n",
       "      <td>Standard</td>\n",
       "      <td>medium</td>\n",
       "      <td>large</td>\n",
       "      <td>2091.47</td>\n",
       "      <td>388.92</td>\n",
       "      <td>41701</td>\n",
       "    </tr>\n",
       "    <tr>\n",
       "      <th>3</th>\n",
       "      <td>3</td>\n",
       "      <td>37</td>\n",
       "      <td>402</td>\n",
       "      <td>2017-10-16 00:00:00</td>\n",
       "      <td>False</td>\n",
       "      <td>Approved</td>\n",
       "      <td>OHM Cycles</td>\n",
       "      <td>Standard</td>\n",
       "      <td>low</td>\n",
       "      <td>medium</td>\n",
       "      <td>1793.43</td>\n",
       "      <td>248.82</td>\n",
       "      <td>36361</td>\n",
       "    </tr>\n",
       "    <tr>\n",
       "      <th>4</th>\n",
       "      <td>4</td>\n",
       "      <td>88</td>\n",
       "      <td>3135</td>\n",
       "      <td>2017-08-31 00:00:00</td>\n",
       "      <td>False</td>\n",
       "      <td>Approved</td>\n",
       "      <td>Norco Bicycles</td>\n",
       "      <td>Standard</td>\n",
       "      <td>medium</td>\n",
       "      <td>medium</td>\n",
       "      <td>1198.46</td>\n",
       "      <td>381.1</td>\n",
       "      <td>36145</td>\n",
       "    </tr>\n",
       "  </tbody>\n",
       "</table>\n",
       "</div>"
      ],
      "text/plain": [
       "0  transaction_id  product_id  customer_id     transaction_date  online_order  \\\n",
       "0  transaction_id  product_id  customer_id     transaction_date  online_order   \n",
       "1               1           2         2950  2017-02-25 00:00:00         False   \n",
       "2               2           3         3120  2017-05-21 00:00:00          True   \n",
       "3               3          37          402  2017-10-16 00:00:00         False   \n",
       "4               4          88         3135  2017-08-31 00:00:00         False   \n",
       "\n",
       "0  order_status           brand  product_line  product_class  product_size  \\\n",
       "0  order_status           brand  product_line  product_class  product_size   \n",
       "1      Approved           Solex      Standard         medium        medium   \n",
       "2      Approved   Trek Bicycles      Standard         medium         large   \n",
       "3      Approved      OHM Cycles      Standard            low        medium   \n",
       "4      Approved  Norco Bicycles      Standard         medium        medium   \n",
       "\n",
       "0  list_price  standard_cost  product_first_sold_date  \n",
       "0  list_price  standard_cost  product_first_sold_date  \n",
       "1       71.49          53.62                    41245  \n",
       "2     2091.47         388.92                    41701  \n",
       "3     1793.43         248.82                    36361  \n",
       "4     1198.46          381.1                    36145  "
      ]
     },
     "execution_count": 5,
     "metadata": {},
     "output_type": "execute_result"
    }
   ],
   "source": [
    "t_df.head()"
   ]
  },
  {
   "cell_type": "code",
   "execution_count": 6,
   "id": "984c706b",
   "metadata": {},
   "outputs": [],
   "source": [
    "# Drop first row\n",
    "t_df.drop(index = t_df.index[0], inplace = True)"
   ]
  },
  {
   "cell_type": "code",
   "execution_count": 7,
   "id": "569673c6",
   "metadata": {},
   "outputs": [
    {
     "data": {
      "text/html": [
       "<div>\n",
       "<style scoped>\n",
       "    .dataframe tbody tr th:only-of-type {\n",
       "        vertical-align: middle;\n",
       "    }\n",
       "\n",
       "    .dataframe tbody tr th {\n",
       "        vertical-align: top;\n",
       "    }\n",
       "\n",
       "    .dataframe thead th {\n",
       "        text-align: right;\n",
       "    }\n",
       "</style>\n",
       "<table border=\"1\" class=\"dataframe\">\n",
       "  <thead>\n",
       "    <tr style=\"text-align: right;\">\n",
       "      <th></th>\n",
       "      <th>transaction_id</th>\n",
       "      <th>product_id</th>\n",
       "      <th>customer_id</th>\n",
       "      <th>transaction_date</th>\n",
       "      <th>online_order</th>\n",
       "      <th>order_status</th>\n",
       "      <th>brand</th>\n",
       "      <th>product_line</th>\n",
       "      <th>product_class</th>\n",
       "      <th>product_size</th>\n",
       "      <th>list_price</th>\n",
       "      <th>standard_cost</th>\n",
       "      <th>product_first_sold_date</th>\n",
       "    </tr>\n",
       "  </thead>\n",
       "  <tbody>\n",
       "    <tr>\n",
       "      <th>1</th>\n",
       "      <td>1</td>\n",
       "      <td>2</td>\n",
       "      <td>2950</td>\n",
       "      <td>2017-02-25 00:00:00</td>\n",
       "      <td>False</td>\n",
       "      <td>Approved</td>\n",
       "      <td>Solex</td>\n",
       "      <td>Standard</td>\n",
       "      <td>medium</td>\n",
       "      <td>medium</td>\n",
       "      <td>71.49</td>\n",
       "      <td>53.62</td>\n",
       "      <td>41245</td>\n",
       "    </tr>\n",
       "    <tr>\n",
       "      <th>2</th>\n",
       "      <td>2</td>\n",
       "      <td>3</td>\n",
       "      <td>3120</td>\n",
       "      <td>2017-05-21 00:00:00</td>\n",
       "      <td>True</td>\n",
       "      <td>Approved</td>\n",
       "      <td>Trek Bicycles</td>\n",
       "      <td>Standard</td>\n",
       "      <td>medium</td>\n",
       "      <td>large</td>\n",
       "      <td>2091.47</td>\n",
       "      <td>388.92</td>\n",
       "      <td>41701</td>\n",
       "    </tr>\n",
       "    <tr>\n",
       "      <th>3</th>\n",
       "      <td>3</td>\n",
       "      <td>37</td>\n",
       "      <td>402</td>\n",
       "      <td>2017-10-16 00:00:00</td>\n",
       "      <td>False</td>\n",
       "      <td>Approved</td>\n",
       "      <td>OHM Cycles</td>\n",
       "      <td>Standard</td>\n",
       "      <td>low</td>\n",
       "      <td>medium</td>\n",
       "      <td>1793.43</td>\n",
       "      <td>248.82</td>\n",
       "      <td>36361</td>\n",
       "    </tr>\n",
       "    <tr>\n",
       "      <th>4</th>\n",
       "      <td>4</td>\n",
       "      <td>88</td>\n",
       "      <td>3135</td>\n",
       "      <td>2017-08-31 00:00:00</td>\n",
       "      <td>False</td>\n",
       "      <td>Approved</td>\n",
       "      <td>Norco Bicycles</td>\n",
       "      <td>Standard</td>\n",
       "      <td>medium</td>\n",
       "      <td>medium</td>\n",
       "      <td>1198.46</td>\n",
       "      <td>381.1</td>\n",
       "      <td>36145</td>\n",
       "    </tr>\n",
       "    <tr>\n",
       "      <th>5</th>\n",
       "      <td>5</td>\n",
       "      <td>78</td>\n",
       "      <td>787</td>\n",
       "      <td>2017-10-01 00:00:00</td>\n",
       "      <td>True</td>\n",
       "      <td>Approved</td>\n",
       "      <td>Giant Bicycles</td>\n",
       "      <td>Standard</td>\n",
       "      <td>medium</td>\n",
       "      <td>large</td>\n",
       "      <td>1765.3</td>\n",
       "      <td>709.48</td>\n",
       "      <td>42226</td>\n",
       "    </tr>\n",
       "  </tbody>\n",
       "</table>\n",
       "</div>"
      ],
      "text/plain": [
       "0 transaction_id product_id customer_id     transaction_date online_order  \\\n",
       "1              1          2        2950  2017-02-25 00:00:00        False   \n",
       "2              2          3        3120  2017-05-21 00:00:00         True   \n",
       "3              3         37         402  2017-10-16 00:00:00        False   \n",
       "4              4         88        3135  2017-08-31 00:00:00        False   \n",
       "5              5         78         787  2017-10-01 00:00:00         True   \n",
       "\n",
       "0 order_status           brand product_line product_class product_size  \\\n",
       "1     Approved           Solex     Standard        medium       medium   \n",
       "2     Approved   Trek Bicycles     Standard        medium        large   \n",
       "3     Approved      OHM Cycles     Standard           low       medium   \n",
       "4     Approved  Norco Bicycles     Standard        medium       medium   \n",
       "5     Approved  Giant Bicycles     Standard        medium        large   \n",
       "\n",
       "0 list_price standard_cost product_first_sold_date  \n",
       "1      71.49         53.62                   41245  \n",
       "2    2091.47        388.92                   41701  \n",
       "3    1793.43        248.82                   36361  \n",
       "4    1198.46         381.1                   36145  \n",
       "5     1765.3        709.48                   42226  "
      ]
     },
     "execution_count": 7,
     "metadata": {},
     "output_type": "execute_result"
    }
   ],
   "source": [
    "t_df.head()"
   ]
  },
  {
   "cell_type": "code",
   "execution_count": 8,
   "id": "757c1849",
   "metadata": {},
   "outputs": [
    {
     "data": {
      "text/plain": [
       "(20000, 13)"
      ]
     },
     "execution_count": 8,
     "metadata": {},
     "output_type": "execute_result"
    }
   ],
   "source": [
    "#size\n",
    "t_df.shape"
   ]
  },
  {
   "cell_type": "code",
   "execution_count": 9,
   "id": "5c65fc75",
   "metadata": {},
   "outputs": [
    {
     "data": {
      "text/plain": [
       "Index(['transaction_id', 'product_id', 'customer_id', 'transaction_date',\n",
       "       'online_order', 'order_status', 'brand', 'product_line',\n",
       "       'product_class', 'product_size', 'list_price', 'standard_cost',\n",
       "       'product_first_sold_date'],\n",
       "      dtype='object', name=0)"
      ]
     },
     "execution_count": 9,
     "metadata": {},
     "output_type": "execute_result"
    }
   ],
   "source": [
    "#Columns\n",
    "t_df.columns"
   ]
  },
  {
   "cell_type": "code",
   "execution_count": 10,
   "id": "bb9eaa0b",
   "metadata": {},
   "outputs": [
    {
     "name": "stdout",
     "output_type": "stream",
     "text": [
      "<class 'pandas.core.frame.DataFrame'>\n",
      "RangeIndex: 20000 entries, 1 to 20000\n",
      "Data columns (total 13 columns):\n",
      " #   Column                   Non-Null Count  Dtype \n",
      "---  ------                   --------------  ----- \n",
      " 0   transaction_id           20000 non-null  object\n",
      " 1   product_id               20000 non-null  object\n",
      " 2   customer_id              20000 non-null  object\n",
      " 3   transaction_date         20000 non-null  object\n",
      " 4   online_order             19640 non-null  object\n",
      " 5   order_status             20000 non-null  object\n",
      " 6   brand                    19803 non-null  object\n",
      " 7   product_line             19803 non-null  object\n",
      " 8   product_class            19803 non-null  object\n",
      " 9   product_size             19803 non-null  object\n",
      " 10  list_price               20000 non-null  object\n",
      " 11  standard_cost            19803 non-null  object\n",
      " 12  product_first_sold_date  19803 non-null  object\n",
      "dtypes: object(13)\n",
      "memory usage: 2.0+ MB\n"
     ]
    }
   ],
   "source": [
    "# Columns info\n",
    "t_df.info()"
   ]
  },
  {
   "cell_type": "markdown",
   "id": "2e0a8c21",
   "metadata": {},
   "source": [
    "- Incorrect column data type: The transaction date and product_first_sold_date columns is formatted as object rather than date time.\n",
    "    - list price,the id columns and standard cost columns are formatted as objects instead of floats\n",
    "- There are missing values, for columns that have a count less than the total entries."
   ]
  },
  {
   "cell_type": "code",
   "execution_count": 11,
   "id": "8ca0d52d",
   "metadata": {},
   "outputs": [],
   "source": [
    "# Convert to datetime\n",
    "t_df[\"transaction_date\"] = pd.to_datetime(t_df['transaction_date'])\n",
    "t_df['product_first_sold_date'] = pd.to_datetime(t_df['product_first_sold_date'])"
   ]
  },
  {
   "cell_type": "code",
   "execution_count": 12,
   "id": "abff64df",
   "metadata": {},
   "outputs": [],
   "source": [
    "#Convert to float\n",
    "t_df[[\"list_price\", \"standard_cost\"]] = t_df[[\"list_price\", \"standard_cost\"]].astype(float)"
   ]
  },
  {
   "cell_type": "code",
   "execution_count": 13,
   "id": "2d56d1c9",
   "metadata": {},
   "outputs": [],
   "source": [
    "# Convert to integers\n",
    "t_df[['transaction_id', 'product_id', 'customer_id']] = t_df[['transaction_id', 'product_id', 'customer_id']].astype(int)"
   ]
  },
  {
   "cell_type": "code",
   "execution_count": 14,
   "id": "f31b16bd",
   "metadata": {},
   "outputs": [
    {
     "name": "stdout",
     "output_type": "stream",
     "text": [
      "<class 'pandas.core.frame.DataFrame'>\n",
      "RangeIndex: 20000 entries, 1 to 20000\n",
      "Data columns (total 13 columns):\n",
      " #   Column                   Non-Null Count  Dtype         \n",
      "---  ------                   --------------  -----         \n",
      " 0   transaction_id           20000 non-null  int32         \n",
      " 1   product_id               20000 non-null  int32         \n",
      " 2   customer_id              20000 non-null  int32         \n",
      " 3   transaction_date         20000 non-null  datetime64[ns]\n",
      " 4   online_order             19640 non-null  object        \n",
      " 5   order_status             20000 non-null  object        \n",
      " 6   brand                    19803 non-null  object        \n",
      " 7   product_line             19803 non-null  object        \n",
      " 8   product_class            19803 non-null  object        \n",
      " 9   product_size             19803 non-null  object        \n",
      " 10  list_price               20000 non-null  float64       \n",
      " 11  standard_cost            19803 non-null  float64       \n",
      " 12  product_first_sold_date  19803 non-null  datetime64[ns]\n",
      "dtypes: datetime64[ns](2), float64(2), int32(3), object(6)\n",
      "memory usage: 1.8+ MB\n"
     ]
    }
   ],
   "source": [
    "t_df.info()"
   ]
  },
  {
   "cell_type": "code",
   "execution_count": 15,
   "id": "eae7232d",
   "metadata": {},
   "outputs": [
    {
     "data": {
      "text/html": [
       "<div>\n",
       "<style scoped>\n",
       "    .dataframe tbody tr th:only-of-type {\n",
       "        vertical-align: middle;\n",
       "    }\n",
       "\n",
       "    .dataframe tbody tr th {\n",
       "        vertical-align: top;\n",
       "    }\n",
       "\n",
       "    .dataframe thead th {\n",
       "        text-align: right;\n",
       "    }\n",
       "</style>\n",
       "<table border=\"1\" class=\"dataframe\">\n",
       "  <thead>\n",
       "    <tr style=\"text-align: right;\">\n",
       "      <th></th>\n",
       "      <th>transaction_id</th>\n",
       "      <th>product_id</th>\n",
       "      <th>customer_id</th>\n",
       "      <th>list_price</th>\n",
       "      <th>standard_cost</th>\n",
       "    </tr>\n",
       "  </thead>\n",
       "  <tbody>\n",
       "    <tr>\n",
       "      <th>count</th>\n",
       "      <td>20000.000000</td>\n",
       "      <td>20000.00000</td>\n",
       "      <td>20000.000000</td>\n",
       "      <td>20000.000000</td>\n",
       "      <td>19803.000000</td>\n",
       "    </tr>\n",
       "    <tr>\n",
       "      <th>mean</th>\n",
       "      <td>10000.500000</td>\n",
       "      <td>45.36465</td>\n",
       "      <td>1738.246050</td>\n",
       "      <td>1107.829449</td>\n",
       "      <td>556.046951</td>\n",
       "    </tr>\n",
       "    <tr>\n",
       "      <th>std</th>\n",
       "      <td>5773.647028</td>\n",
       "      <td>30.75359</td>\n",
       "      <td>1011.951046</td>\n",
       "      <td>582.825242</td>\n",
       "      <td>405.955660</td>\n",
       "    </tr>\n",
       "    <tr>\n",
       "      <th>min</th>\n",
       "      <td>1.000000</td>\n",
       "      <td>0.00000</td>\n",
       "      <td>1.000000</td>\n",
       "      <td>12.010000</td>\n",
       "      <td>7.210000</td>\n",
       "    </tr>\n",
       "    <tr>\n",
       "      <th>25%</th>\n",
       "      <td>5000.750000</td>\n",
       "      <td>18.00000</td>\n",
       "      <td>857.750000</td>\n",
       "      <td>575.270000</td>\n",
       "      <td>215.140000</td>\n",
       "    </tr>\n",
       "    <tr>\n",
       "      <th>50%</th>\n",
       "      <td>10000.500000</td>\n",
       "      <td>44.00000</td>\n",
       "      <td>1736.000000</td>\n",
       "      <td>1163.890000</td>\n",
       "      <td>507.580000</td>\n",
       "    </tr>\n",
       "    <tr>\n",
       "      <th>75%</th>\n",
       "      <td>15000.250000</td>\n",
       "      <td>72.00000</td>\n",
       "      <td>2613.000000</td>\n",
       "      <td>1635.300000</td>\n",
       "      <td>795.100000</td>\n",
       "    </tr>\n",
       "    <tr>\n",
       "      <th>max</th>\n",
       "      <td>20000.000000</td>\n",
       "      <td>100.00000</td>\n",
       "      <td>5034.000000</td>\n",
       "      <td>2091.470000</td>\n",
       "      <td>1759.850000</td>\n",
       "    </tr>\n",
       "  </tbody>\n",
       "</table>\n",
       "</div>"
      ],
      "text/plain": [
       "0      transaction_id   product_id   customer_id    list_price  standard_cost\n",
       "count    20000.000000  20000.00000  20000.000000  20000.000000   19803.000000\n",
       "mean     10000.500000     45.36465   1738.246050   1107.829449     556.046951\n",
       "std       5773.647028     30.75359   1011.951046    582.825242     405.955660\n",
       "min          1.000000      0.00000      1.000000     12.010000       7.210000\n",
       "25%       5000.750000     18.00000    857.750000    575.270000     215.140000\n",
       "50%      10000.500000     44.00000   1736.000000   1163.890000     507.580000\n",
       "75%      15000.250000     72.00000   2613.000000   1635.300000     795.100000\n",
       "max      20000.000000    100.00000   5034.000000   2091.470000    1759.850000"
      ]
     },
     "execution_count": 15,
     "metadata": {},
     "output_type": "execute_result"
    }
   ],
   "source": [
    "#Statistical description\n",
    "t_df.describe()"
   ]
  },
  {
   "cell_type": "code",
   "execution_count": 16,
   "id": "497222fa",
   "metadata": {},
   "outputs": [
    {
     "data": {
      "text/plain": [
       "0"
      ]
     },
     "execution_count": 16,
     "metadata": {},
     "output_type": "execute_result"
    }
   ],
   "source": [
    "# Check for duplicates\n",
    "t_df.duplicated().sum()"
   ]
  },
  {
   "cell_type": "code",
   "execution_count": 17,
   "id": "ef83837b",
   "metadata": {},
   "outputs": [
    {
     "name": "stdout",
     "output_type": "stream",
     "text": [
      "Missing values: \n"
     ]
    },
    {
     "data": {
      "text/plain": [
       "0\n",
       "online_order               360.0\n",
       "brand                      197.0\n",
       "product_line               197.0\n",
       "product_class              197.0\n",
       "product_size               197.0\n",
       "standard_cost              197.0\n",
       "product_first_sold_date    197.0\n",
       "dtype: float64"
      ]
     },
     "execution_count": 17,
     "metadata": {},
     "output_type": "execute_result"
    }
   ],
   "source": [
    "# Missing values\n",
    "def missing_values(x):\n",
    "    return(sum(x.isnull()))\n",
    "\n",
    "print(\"Missing values: \")\n",
    "t_df.apply(missing_values).where(lambda x: x!=0).dropna()\n"
   ]
  },
  {
   "cell_type": "code",
   "execution_count": 18,
   "id": "4e0bfe07",
   "metadata": {},
   "outputs": [
    {
     "name": "stdout",
     "output_type": "stream",
     "text": [
      "Online Order: \n",
      " [False True nan]\n",
      "Brand: \n",
      " ['Solex' 'Trek Bicycles' 'OHM Cycles' 'Norco Bicycles' 'Giant Bicycles'\n",
      " 'WeareA2B' nan]\n",
      "Product Line: \n",
      " ['Standard' 'Road' 'Mountain' 'Touring' nan]\n",
      "Product Class: \n",
      " ['medium' 'low' 'high' nan]\n",
      "Product Size: \n",
      " ['medium' 'large' 'small' nan]\n"
     ]
    }
   ],
   "source": [
    "# Check for unique values in the columns with missing values  {Categorical columns}\n",
    "print(\"Online Order: \\n\", t_df.online_order.unique())\n",
    "print(\"Brand: \\n\", t_df.brand.unique())\n",
    "print(\"Product Line: \\n\", t_df.product_line.unique())\n",
    "print(\"Product Class: \\n\", t_df.product_class.unique())\n",
    "print(\"Product Size: \\n\", t_df.product_size.unique())"
   ]
  },
  {
   "cell_type": "code",
   "execution_count": 19,
   "id": "6742c105",
   "metadata": {},
   "outputs": [],
   "source": [
    "#Filling missing values for categorical columns with mode\n",
    "t_df['online_order'] = t_df['online_order'].fillna(t_df['online_order'].mode()[0])\n",
    "t_df['brand'] = t_df['brand'].fillna(t_df['brand'].mode()[0])\n",
    "t_df['product_line'] = t_df['product_line'].fillna(t_df['product_line'].mode()[0])\n",
    "t_df['product_class'] = t_df['product_class'].fillna(t_df['product_class'].mode()[0])\n",
    "t_df['product_size'] = t_df['product_size'].fillna(t_df['product_size'].mode()[0])"
   ]
  },
  {
   "cell_type": "code",
   "execution_count": 20,
   "id": "97f10da9",
   "metadata": {},
   "outputs": [],
   "source": [
    "t_df[\"product_first_sold_date\"] = t_df[\"product_first_sold_date\"].fillna(method = 'ffill')"
   ]
  },
  {
   "cell_type": "code",
   "execution_count": 21,
   "id": "9fc7dfdc",
   "metadata": {},
   "outputs": [
    {
     "data": {
      "image/png": "[encoded data removed]",
      "text/plain": [
       "<Figure size 720x432 with 1 Axes>"
      ]
     },
     "metadata": {
      "needs_background": "light"
     },
     "output_type": "display_data"
    }
   ],
   "source": [
    "# Plot a boxplot to check for outliers\n",
    "plt.figure(figsize=(10,6))\n",
    "fig = t_df.boxplot(column = 'standard_cost')"
   ]
  },
  {
   "cell_type": "code",
   "execution_count": 22,
   "id": "a45dd0d6",
   "metadata": {},
   "outputs": [],
   "source": [
    "t_df['standard_cost'] = t_df['standard_cost'].fillna(t_df['standard_cost'].median())"
   ]
  },
  {
   "cell_type": "code",
   "execution_count": 23,
   "id": "823198ee",
   "metadata": {},
   "outputs": [
    {
     "name": "stdout",
     "output_type": "stream",
     "text": [
      "<class 'pandas.core.frame.DataFrame'>\n",
      "RangeIndex: 20000 entries, 1 to 20000\n",
      "Data columns (total 13 columns):\n",
      " #   Column                   Non-Null Count  Dtype         \n",
      "---  ------                   --------------  -----         \n",
      " 0   transaction_id           20000 non-null  int32         \n",
      " 1   product_id               20000 non-null  int32         \n",
      " 2   customer_id              20000 non-null  int32         \n",
      " 3   transaction_date         20000 non-null  datetime64[ns]\n",
      " 4   online_order             20000 non-null  bool          \n",
      " 5   order_status             20000 non-null  object        \n",
      " 6   brand                    20000 non-null  object        \n",
      " 7   product_line             20000 non-null  object        \n",
      " 8   product_class            20000 non-null  object        \n",
      " 9   product_size             20000 non-null  object        \n",
      " 10  list_price               20000 non-null  float64       \n",
      " 11  standard_cost            20000 non-null  float64       \n",
      " 12  product_first_sold_date  20000 non-null  datetime64[ns]\n",
      "dtypes: bool(1), datetime64[ns](2), float64(2), int32(3), object(5)\n",
      "memory usage: 1.6+ MB\n"
     ]
    }
   ],
   "source": [
    "t_df.info()"
   ]
  },
  {
   "cell_type": "markdown",
   "id": "1cfee046",
   "metadata": {},
   "source": [
    "# 2.Data Quality and Assessment of New Customer Data"
   ]
  },
  {
   "cell_type": "code",
   "execution_count": 24,
   "id": "9643fd1a",
   "metadata": {},
   "outputs": [
    {
     "data": {
      "text/html": [
       "<div>\n",
       "<style scoped>\n",
       "    .dataframe tbody tr th:only-of-type {\n",
       "        vertical-align: middle;\n",
       "    }\n",
       "\n",
       "    .dataframe tbody tr th {\n",
       "        vertical-align: top;\n",
       "    }\n",
       "\n",
       "    .dataframe thead th {\n",
       "        text-align: right;\n",
       "    }\n",
       "</style>\n",
       "<table border=\"1\" class=\"dataframe\">\n",
       "  <thead>\n",
       "    <tr style=\"text-align: right;\">\n",
       "      <th></th>\n",
       "      <th>first_name</th>\n",
       "      <th>last_name</th>\n",
       "      <th>gender</th>\n",
       "      <th>past_3_years_bike_related_purchases</th>\n",
       "      <th>DOB</th>\n",
       "      <th>job_title</th>\n",
       "      <th>job_industry_category</th>\n",
       "      <th>wealth_segment</th>\n",
       "      <th>deceased_indicator</th>\n",
       "      <th>owns_car</th>\n",
       "      <th>...</th>\n",
       "      <th>state</th>\n",
       "      <th>country</th>\n",
       "      <th>property_valuation</th>\n",
       "      <th>NaN</th>\n",
       "      <th>NaN</th>\n",
       "      <th>NaN</th>\n",
       "      <th>NaN</th>\n",
       "      <th>NaN</th>\n",
       "      <th>Rank</th>\n",
       "      <th>Value</th>\n",
       "    </tr>\n",
       "  </thead>\n",
       "  <tbody>\n",
       "    <tr>\n",
       "      <th>0</th>\n",
       "      <td>first_name</td>\n",
       "      <td>last_name</td>\n",
       "      <td>gender</td>\n",
       "      <td>past_3_years_bike_related_purchases</td>\n",
       "      <td>DOB</td>\n",
       "      <td>job_title</td>\n",
       "      <td>job_industry_category</td>\n",
       "      <td>wealth_segment</td>\n",
       "      <td>deceased_indicator</td>\n",
       "      <td>owns_car</td>\n",
       "      <td>...</td>\n",
       "      <td>state</td>\n",
       "      <td>country</td>\n",
       "      <td>property_valuation</td>\n",
       "      <td>NaN</td>\n",
       "      <td>NaN</td>\n",
       "      <td>NaN</td>\n",
       "      <td>NaN</td>\n",
       "      <td>NaN</td>\n",
       "      <td>Rank</td>\n",
       "      <td>Value</td>\n",
       "    </tr>\n",
       "    <tr>\n",
       "      <th>1</th>\n",
       "      <td>Chickie</td>\n",
       "      <td>Brister</td>\n",
       "      <td>Male</td>\n",
       "      <td>86</td>\n",
       "      <td>1957-07-12</td>\n",
       "      <td>General Manager</td>\n",
       "      <td>Manufacturing</td>\n",
       "      <td>Mass Customer</td>\n",
       "      <td>N</td>\n",
       "      <td>Yes</td>\n",
       "      <td>...</td>\n",
       "      <td>QLD</td>\n",
       "      <td>Australia</td>\n",
       "      <td>6</td>\n",
       "      <td>0.56</td>\n",
       "      <td>0.7000</td>\n",
       "      <td>0.8750</td>\n",
       "      <td>0.743750</td>\n",
       "      <td>1.0</td>\n",
       "      <td>1</td>\n",
       "      <td>1.71875</td>\n",
       "    </tr>\n",
       "    <tr>\n",
       "      <th>2</th>\n",
       "      <td>Morly</td>\n",
       "      <td>Genery</td>\n",
       "      <td>Male</td>\n",
       "      <td>69</td>\n",
       "      <td>1970-03-22</td>\n",
       "      <td>Structural Engineer</td>\n",
       "      <td>Property</td>\n",
       "      <td>Mass Customer</td>\n",
       "      <td>N</td>\n",
       "      <td>No</td>\n",
       "      <td>...</td>\n",
       "      <td>NSW</td>\n",
       "      <td>Australia</td>\n",
       "      <td>11</td>\n",
       "      <td>0.89</td>\n",
       "      <td>0.8900</td>\n",
       "      <td>1.1125</td>\n",
       "      <td>0.945625</td>\n",
       "      <td>1.0</td>\n",
       "      <td>1</td>\n",
       "      <td>1.71875</td>\n",
       "    </tr>\n",
       "    <tr>\n",
       "      <th>3</th>\n",
       "      <td>Ardelis</td>\n",
       "      <td>Forrester</td>\n",
       "      <td>Female</td>\n",
       "      <td>10</td>\n",
       "      <td>1974-08-28 00:00:00</td>\n",
       "      <td>Senior Cost Accountant</td>\n",
       "      <td>Financial Services</td>\n",
       "      <td>Affluent Customer</td>\n",
       "      <td>N</td>\n",
       "      <td>No</td>\n",
       "      <td>...</td>\n",
       "      <td>VIC</td>\n",
       "      <td>Australia</td>\n",
       "      <td>5</td>\n",
       "      <td>1.01</td>\n",
       "      <td>1.0100</td>\n",
       "      <td>1.0100</td>\n",
       "      <td>1.010000</td>\n",
       "      <td>1.0</td>\n",
       "      <td>1</td>\n",
       "      <td>1.71875</td>\n",
       "    </tr>\n",
       "    <tr>\n",
       "      <th>4</th>\n",
       "      <td>Lucine</td>\n",
       "      <td>Stutt</td>\n",
       "      <td>Female</td>\n",
       "      <td>64</td>\n",
       "      <td>1979-01-28</td>\n",
       "      <td>Account Representative III</td>\n",
       "      <td>Manufacturing</td>\n",
       "      <td>Affluent Customer</td>\n",
       "      <td>N</td>\n",
       "      <td>Yes</td>\n",
       "      <td>...</td>\n",
       "      <td>QLD</td>\n",
       "      <td>Australia</td>\n",
       "      <td>1</td>\n",
       "      <td>0.87</td>\n",
       "      <td>1.0875</td>\n",
       "      <td>1.0875</td>\n",
       "      <td>1.087500</td>\n",
       "      <td>4.0</td>\n",
       "      <td>4</td>\n",
       "      <td>1.703125</td>\n",
       "    </tr>\n",
       "  </tbody>\n",
       "</table>\n",
       "<p>5 rows × 23 columns</p>\n",
       "</div>"
      ],
      "text/plain": [
       "0  first_name  last_name  gender  past_3_years_bike_related_purchases  \\\n",
       "0  first_name  last_name  gender  past_3_years_bike_related_purchases   \n",
       "1     Chickie    Brister    Male                                   86   \n",
       "2       Morly     Genery    Male                                   69   \n",
       "3     Ardelis  Forrester  Female                                   10   \n",
       "4      Lucine      Stutt  Female                                   64   \n",
       "\n",
       "0                  DOB                   job_title  job_industry_category  \\\n",
       "0                  DOB                   job_title  job_industry_category   \n",
       "1           1957-07-12             General Manager          Manufacturing   \n",
       "2           1970-03-22         Structural Engineer               Property   \n",
       "3  1974-08-28 00:00:00      Senior Cost Accountant     Financial Services   \n",
       "4           1979-01-28  Account Representative III          Manufacturing   \n",
       "\n",
       "0     wealth_segment  deceased_indicator  owns_car  ...  state    country  \\\n",
       "0     wealth_segment  deceased_indicator  owns_car  ...  state    country   \n",
       "1      Mass Customer                   N       Yes  ...    QLD  Australia   \n",
       "2      Mass Customer                   N        No  ...    NSW  Australia   \n",
       "3  Affluent Customer                   N        No  ...    VIC  Australia   \n",
       "4  Affluent Customer                   N       Yes  ...    QLD  Australia   \n",
       "\n",
       "0  property_valuation   NaN     NaN     NaN       NaN  NaN  Rank     Value  \n",
       "0  property_valuation   NaN     NaN     NaN       NaN  NaN  Rank     Value  \n",
       "1                   6  0.56  0.7000  0.8750  0.743750  1.0     1   1.71875  \n",
       "2                  11  0.89  0.8900  1.1125  0.945625  1.0     1   1.71875  \n",
       "3                   5  1.01  1.0100  1.0100  1.010000  1.0     1   1.71875  \n",
       "4                   1  0.87  1.0875  1.0875  1.087500  4.0     4  1.703125  \n",
       "\n",
       "[5 rows x 23 columns]"
      ]
     },
     "execution_count": 24,
     "metadata": {},
     "output_type": "execute_result"
    }
   ],
   "source": [
    "nc_df.head()"
   ]
  },
  {
   "cell_type": "code",
   "execution_count": 25,
   "id": "7708767d",
   "metadata": {},
   "outputs": [],
   "source": [
    "#Drop first row\n",
    "nc_df.drop(index = nc_df.index[0], inplace = True)"
   ]
  },
  {
   "cell_type": "code",
   "execution_count": 26,
   "id": "6959b548",
   "metadata": {},
   "outputs": [
    {
     "name": "stdout",
     "output_type": "stream",
     "text": [
      "<class 'pandas.core.frame.DataFrame'>\n",
      "RangeIndex: 1000 entries, 1 to 1000\n",
      "Data columns (total 23 columns):\n",
      " #   Column                               Non-Null Count  Dtype  \n",
      "---  ------                               --------------  -----  \n",
      " 0   first_name                           1000 non-null   object \n",
      " 1   last_name                            971 non-null    object \n",
      " 2   gender                               1000 non-null   object \n",
      " 3   past_3_years_bike_related_purchases  1000 non-null   object \n",
      " 4   DOB                                  983 non-null    object \n",
      " 5   job_title                            894 non-null    object \n",
      " 6   job_industry_category                835 non-null    object \n",
      " 7   wealth_segment                       1000 non-null   object \n",
      " 8   deceased_indicator                   1000 non-null   object \n",
      " 9   owns_car                             1000 non-null   object \n",
      " 10  tenure                               1000 non-null   object \n",
      " 11  address                              1000 non-null   object \n",
      " 12  postcode                             1000 non-null   object \n",
      " 13  state                                1000 non-null   object \n",
      " 14  country                              1000 non-null   object \n",
      " 15  property_valuation                   1000 non-null   object \n",
      " 16  nan                                  1000 non-null   float64\n",
      " 17  nan                                  1000 non-null   float64\n",
      " 18  nan                                  1000 non-null   float64\n",
      " 19  nan                                  1000 non-null   float64\n",
      " 20  nan                                  1000 non-null   float64\n",
      " 21  Rank                                 1000 non-null   object \n",
      " 22  Value                                1000 non-null   object \n",
      "dtypes: float64(5), object(18)\n",
      "memory usage: 179.8+ KB\n"
     ]
    }
   ],
   "source": [
    "nc_df.info()"
   ]
  },
  {
   "cell_type": "code",
   "execution_count": 27,
   "id": "336f102f",
   "metadata": {},
   "outputs": [
    {
     "data": {
      "text/plain": [
       "Index([                         'first_name',\n",
       "                                 'last_name',\n",
       "                                    'gender',\n",
       "       'past_3_years_bike_related_purchases',\n",
       "                                       'DOB',\n",
       "                                 'job_title',\n",
       "                     'job_industry_category',\n",
       "                            'wealth_segment',\n",
       "                        'deceased_indicator',\n",
       "                                  'owns_car',\n",
       "                                    'tenure',\n",
       "                                   'address',\n",
       "                                  'postcode',\n",
       "                                     'state',\n",
       "                                   'country',\n",
       "                        'property_valuation',\n",
       "                                         nan,\n",
       "                                         nan,\n",
       "                                         nan,\n",
       "                                         nan,\n",
       "                                         nan,\n",
       "                                      'Rank',\n",
       "                                     'Value'],\n",
       "      dtype='object', name=0)"
      ]
     },
     "execution_count": 27,
     "metadata": {},
     "output_type": "execute_result"
    }
   ],
   "source": [
    "nc_df.columns"
   ]
  },
  {
   "cell_type": "code",
   "execution_count": 28,
   "id": "0bca3f7f",
   "metadata": {},
   "outputs": [],
   "source": [
    "# Remove unnamed columns\n",
    "nc_df.drop(nc_df.columns[[16, 17, 18, 19, 20]], axis = 1, inplace = True)"
   ]
  },
  {
   "cell_type": "code",
   "execution_count": 29,
   "id": "f86bf7be",
   "metadata": {},
   "outputs": [
    {
     "data": {
      "text/plain": [
       "Index(['first_name', 'last_name', 'gender',\n",
       "       'past_3_years_bike_related_purchases', 'DOB', 'job_title',\n",
       "       'job_industry_category', 'wealth_segment', 'deceased_indicator',\n",
       "       'owns_car', 'tenure', 'address', 'postcode', 'state', 'country',\n",
       "       'property_valuation', 'Rank', 'Value'],\n",
       "      dtype='object', name=0)"
      ]
     },
     "execution_count": 29,
     "metadata": {},
     "output_type": "execute_result"
    }
   ],
   "source": [
    "nc_df.columns"
   ]
  },
  {
   "cell_type": "code",
   "execution_count": 30,
   "id": "48058d97",
   "metadata": {},
   "outputs": [
    {
     "name": "stdout",
     "output_type": "stream",
     "text": [
      "<class 'pandas.core.frame.DataFrame'>\n",
      "RangeIndex: 1000 entries, 1 to 1000\n",
      "Data columns (total 18 columns):\n",
      " #   Column                               Non-Null Count  Dtype \n",
      "---  ------                               --------------  ----- \n",
      " 0   first_name                           1000 non-null   object\n",
      " 1   last_name                            971 non-null    object\n",
      " 2   gender                               1000 non-null   object\n",
      " 3   past_3_years_bike_related_purchases  1000 non-null   object\n",
      " 4   DOB                                  983 non-null    object\n",
      " 5   job_title                            894 non-null    object\n",
      " 6   job_industry_category                835 non-null    object\n",
      " 7   wealth_segment                       1000 non-null   object\n",
      " 8   deceased_indicator                   1000 non-null   object\n",
      " 9   owns_car                             1000 non-null   object\n",
      " 10  tenure                               1000 non-null   object\n",
      " 11  address                              1000 non-null   object\n",
      " 12  postcode                             1000 non-null   object\n",
      " 13  state                                1000 non-null   object\n",
      " 14  country                              1000 non-null   object\n",
      " 15  property_valuation                   1000 non-null   object\n",
      " 16  Rank                                 1000 non-null   object\n",
      " 17  Value                                1000 non-null   object\n",
      "dtypes: object(18)\n",
      "memory usage: 140.8+ KB\n"
     ]
    }
   ],
   "source": [
    "nc_df.info()"
   ]
  },
  {
   "cell_type": "markdown",
   "id": "92bba260",
   "metadata": {},
   "source": [
    "### Convert columns to correct data type\n"
   ]
  },
  {
   "cell_type": "code",
   "execution_count": 31,
   "id": "0d73fad5",
   "metadata": {},
   "outputs": [],
   "source": [
    "# Convert Date of Birth to date time\n",
    "nc_df[\"DOB\"] = pd.to_datetime(nc_df.DOB)"
   ]
  },
  {
   "cell_type": "code",
   "execution_count": 32,
   "id": "233a3184",
   "metadata": {},
   "outputs": [],
   "source": [
    "nc_df[[\"past_3_years_bike_related_purchases\", \"property_valuation\", \"Rank\", \"Value\"]] = nc_df[[\"past_3_years_bike_related_purchases\", \"property_valuation\", \"Rank\", \"Value\"]].astype(int)"
   ]
  },
  {
   "cell_type": "code",
   "execution_count": 33,
   "id": "843f7731",
   "metadata": {},
   "outputs": [
    {
     "name": "stdout",
     "output_type": "stream",
     "text": [
      "<class 'pandas.core.frame.DataFrame'>\n",
      "RangeIndex: 1000 entries, 1 to 1000\n",
      "Data columns (total 18 columns):\n",
      " #   Column                               Non-Null Count  Dtype         \n",
      "---  ------                               --------------  -----         \n",
      " 0   first_name                           1000 non-null   object        \n",
      " 1   last_name                            971 non-null    object        \n",
      " 2   gender                               1000 non-null   object        \n",
      " 3   past_3_years_bike_related_purchases  1000 non-null   int32         \n",
      " 4   DOB                                  983 non-null    datetime64[ns]\n",
      " 5   job_title                            894 non-null    object        \n",
      " 6   job_industry_category                835 non-null    object        \n",
      " 7   wealth_segment                       1000 non-null   object        \n",
      " 8   deceased_indicator                   1000 non-null   object        \n",
      " 9   owns_car                             1000 non-null   object        \n",
      " 10  tenure                               1000 non-null   object        \n",
      " 11  address                              1000 non-null   object        \n",
      " 12  postcode                             1000 non-null   object        \n",
      " 13  state                                1000 non-null   object        \n",
      " 14  country                              1000 non-null   object        \n",
      " 15  property_valuation                   1000 non-null   int32         \n",
      " 16  Rank                                 1000 non-null   int32         \n",
      " 17  Value                                1000 non-null   int32         \n",
      "dtypes: datetime64[ns](1), int32(4), object(13)\n",
      "memory usage: 125.1+ KB\n"
     ]
    }
   ],
   "source": [
    "#Column information after transformation\n",
    "nc_df.info()"
   ]
  },
  {
   "cell_type": "code",
   "execution_count": 34,
   "id": "7a30ae67",
   "metadata": {},
   "outputs": [
    {
     "name": "stdout",
     "output_type": "stream",
     "text": [
      "Missing values: \n"
     ]
    },
    {
     "data": {
      "text/plain": [
       "0\n",
       "last_name                 29.0\n",
       "DOB                       17.0\n",
       "job_title                106.0\n",
       "job_industry_category    165.0\n",
       "dtype: float64"
      ]
     },
     "execution_count": 34,
     "metadata": {},
     "output_type": "execute_result"
    }
   ],
   "source": [
    "# Missing values\n",
    "def missing_values(x):\n",
    "    return(sum(x.isnull()))\n",
    "\n",
    "print(\"Missing values: \")\n",
    "nc_df.apply(missing_values).where(lambda x: x!=0).dropna()"
   ]
  },
  {
   "cell_type": "code",
   "execution_count": 35,
   "id": "7584dcb2",
   "metadata": {},
   "outputs": [],
   "source": [
    "nc_df[\"job_title\"] = nc_df[\"job_title\"].fillna(nc_df[\"job_title\"].mode()[0])\n",
    "nc_df[\"job_industry_category\"] = nc_df[\"job_industry_category\"].fillna(nc_df[\"job_industry_category\"].mode()[0])"
   ]
  },
  {
   "cell_type": "code",
   "execution_count": 36,
   "id": "18d6ad88",
   "metadata": {},
   "outputs": [
    {
     "name": "stdout",
     "output_type": "stream",
     "text": [
      "<class 'pandas.core.frame.DataFrame'>\n",
      "RangeIndex: 1000 entries, 1 to 1000\n",
      "Data columns (total 18 columns):\n",
      " #   Column                               Non-Null Count  Dtype         \n",
      "---  ------                               --------------  -----         \n",
      " 0   first_name                           1000 non-null   object        \n",
      " 1   last_name                            971 non-null    object        \n",
      " 2   gender                               1000 non-null   object        \n",
      " 3   past_3_years_bike_related_purchases  1000 non-null   int32         \n",
      " 4   DOB                                  983 non-null    datetime64[ns]\n",
      " 5   job_title                            1000 non-null   object        \n",
      " 6   job_industry_category                1000 non-null   object        \n",
      " 7   wealth_segment                       1000 non-null   object        \n",
      " 8   deceased_indicator                   1000 non-null   object        \n",
      " 9   owns_car                             1000 non-null   object        \n",
      " 10  tenure                               1000 non-null   object        \n",
      " 11  address                              1000 non-null   object        \n",
      " 12  postcode                             1000 non-null   object        \n",
      " 13  state                                1000 non-null   object        \n",
      " 14  country                              1000 non-null   object        \n",
      " 15  property_valuation                   1000 non-null   int32         \n",
      " 16  Rank                                 1000 non-null   int32         \n",
      " 17  Value                                1000 non-null   int32         \n",
      "dtypes: datetime64[ns](1), int32(4), object(13)\n",
      "memory usage: 125.1+ KB\n"
     ]
    }
   ],
   "source": [
    "nc_df.info()"
   ]
  },
  {
   "cell_type": "markdown",
   "id": "c1a9798a",
   "metadata": {},
   "source": [
    "### Conclusions:\n",
    "The DOB and last name columns have missing values, but we cannot make assumptions at this stage for the name or the date of birth of the customer"
   ]
  },
  {
   "cell_type": "markdown",
   "id": "695b3827",
   "metadata": {},
   "source": [
    "# 3.Data Quality and Assessment of Customer Demographic data"
   ]
  },
  {
   "cell_type": "code",
   "execution_count": 37,
   "id": "36d026a4",
   "metadata": {},
   "outputs": [
    {
     "data": {
      "text/html": [
       "<div>\n",
       "<style scoped>\n",
       "    .dataframe tbody tr th:only-of-type {\n",
       "        vertical-align: middle;\n",
       "    }\n",
       "\n",
       "    .dataframe tbody tr th {\n",
       "        vertical-align: top;\n",
       "    }\n",
       "\n",
       "    .dataframe thead th {\n",
       "        text-align: right;\n",
       "    }\n",
       "</style>\n",
       "<table border=\"1\" class=\"dataframe\">\n",
       "  <thead>\n",
       "    <tr style=\"text-align: right;\">\n",
       "      <th></th>\n",
       "      <th>customer_id</th>\n",
       "      <th>first_name</th>\n",
       "      <th>last_name</th>\n",
       "      <th>gender</th>\n",
       "      <th>past_3_years_bike_related_purchases</th>\n",
       "      <th>DOB</th>\n",
       "      <th>job_title</th>\n",
       "      <th>job_industry_category</th>\n",
       "      <th>wealth_segment</th>\n",
       "      <th>deceased_indicator</th>\n",
       "      <th>default</th>\n",
       "      <th>owns_car</th>\n",
       "      <th>tenure</th>\n",
       "    </tr>\n",
       "  </thead>\n",
       "  <tbody>\n",
       "    <tr>\n",
       "      <th>0</th>\n",
       "      <td>customer_id</td>\n",
       "      <td>first_name</td>\n",
       "      <td>last_name</td>\n",
       "      <td>gender</td>\n",
       "      <td>past_3_years_bike_related_purchases</td>\n",
       "      <td>DOB</td>\n",
       "      <td>job_title</td>\n",
       "      <td>job_industry_category</td>\n",
       "      <td>wealth_segment</td>\n",
       "      <td>deceased_indicator</td>\n",
       "      <td>default</td>\n",
       "      <td>owns_car</td>\n",
       "      <td>tenure</td>\n",
       "    </tr>\n",
       "    <tr>\n",
       "      <th>1</th>\n",
       "      <td>1</td>\n",
       "      <td>Laraine</td>\n",
       "      <td>Medendorp</td>\n",
       "      <td>F</td>\n",
       "      <td>93</td>\n",
       "      <td>1953-10-12 00:00:00</td>\n",
       "      <td>Executive Secretary</td>\n",
       "      <td>Health</td>\n",
       "      <td>Mass Customer</td>\n",
       "      <td>N</td>\n",
       "      <td>\"'</td>\n",
       "      <td>Yes</td>\n",
       "      <td>11</td>\n",
       "    </tr>\n",
       "    <tr>\n",
       "      <th>2</th>\n",
       "      <td>2</td>\n",
       "      <td>Eli</td>\n",
       "      <td>Bockman</td>\n",
       "      <td>Male</td>\n",
       "      <td>81</td>\n",
       "      <td>1980-12-16 00:00:00</td>\n",
       "      <td>Administrative Officer</td>\n",
       "      <td>Financial Services</td>\n",
       "      <td>Mass Customer</td>\n",
       "      <td>N</td>\n",
       "      <td>&lt;script&gt;alert('hi')&lt;/script&gt;</td>\n",
       "      <td>Yes</td>\n",
       "      <td>16</td>\n",
       "    </tr>\n",
       "    <tr>\n",
       "      <th>3</th>\n",
       "      <td>3</td>\n",
       "      <td>Arlin</td>\n",
       "      <td>Dearle</td>\n",
       "      <td>Male</td>\n",
       "      <td>61</td>\n",
       "      <td>1954-01-20 00:00:00</td>\n",
       "      <td>Recruiting Manager</td>\n",
       "      <td>Property</td>\n",
       "      <td>Mass Customer</td>\n",
       "      <td>N</td>\n",
       "      <td>2018-02-01 00:00:00</td>\n",
       "      <td>Yes</td>\n",
       "      <td>15</td>\n",
       "    </tr>\n",
       "    <tr>\n",
       "      <th>4</th>\n",
       "      <td>4</td>\n",
       "      <td>Talbot</td>\n",
       "      <td>NaN</td>\n",
       "      <td>Male</td>\n",
       "      <td>33</td>\n",
       "      <td>1961-10-03 00:00:00</td>\n",
       "      <td>NaN</td>\n",
       "      <td>IT</td>\n",
       "      <td>Mass Customer</td>\n",
       "      <td>N</td>\n",
       "      <td>() { _; } &gt;_[$($())] { touch /tmp/blns.shellsh...</td>\n",
       "      <td>No</td>\n",
       "      <td>7</td>\n",
       "    </tr>\n",
       "  </tbody>\n",
       "</table>\n",
       "</div>"
      ],
      "text/plain": [
       "0  customer_id  first_name  last_name  gender  \\\n",
       "0  customer_id  first_name  last_name  gender   \n",
       "1            1     Laraine  Medendorp       F   \n",
       "2            2         Eli    Bockman    Male   \n",
       "3            3       Arlin     Dearle    Male   \n",
       "4            4      Talbot        NaN    Male   \n",
       "\n",
       "0  past_3_years_bike_related_purchases                  DOB  \\\n",
       "0  past_3_years_bike_related_purchases                  DOB   \n",
       "1                                   93  1953-10-12 00:00:00   \n",
       "2                                   81  1980-12-16 00:00:00   \n",
       "3                                   61  1954-01-20 00:00:00   \n",
       "4                                   33  1961-10-03 00:00:00   \n",
       "\n",
       "0               job_title  job_industry_category  wealth_segment  \\\n",
       "0               job_title  job_industry_category  wealth_segment   \n",
       "1     Executive Secretary                 Health   Mass Customer   \n",
       "2  Administrative Officer     Financial Services   Mass Customer   \n",
       "3      Recruiting Manager               Property   Mass Customer   \n",
       "4                     NaN                     IT   Mass Customer   \n",
       "\n",
       "0  deceased_indicator                                            default  \\\n",
       "0  deceased_indicator                                            default   \n",
       "1                   N                                                 \"'   \n",
       "2                   N                       <script>alert('hi')</script>   \n",
       "3                   N                                2018-02-01 00:00:00   \n",
       "4                   N  () { _; } >_[$($())] { touch /tmp/blns.shellsh...   \n",
       "\n",
       "0  owns_car  tenure  \n",
       "0  owns_car  tenure  \n",
       "1       Yes      11  \n",
       "2       Yes      16  \n",
       "3       Yes      15  \n",
       "4        No       7  "
      ]
     },
     "execution_count": 37,
     "metadata": {},
     "output_type": "execute_result"
    }
   ],
   "source": [
    "cd_df.head()"
   ]
  },
  {
   "cell_type": "code",
   "execution_count": 38,
   "id": "dce69f7f",
   "metadata": {},
   "outputs": [],
   "source": [
    "# Drop first row\n",
    "cd_df.drop(index = cd_df.index[0], inplace = True)"
   ]
  },
  {
   "cell_type": "code",
   "execution_count": 39,
   "id": "42f9a894",
   "metadata": {},
   "outputs": [
    {
     "data": {
      "text/plain": [
       "(4000, 13)"
      ]
     },
     "execution_count": 39,
     "metadata": {},
     "output_type": "execute_result"
    }
   ],
   "source": [
    "# Size\n",
    "cd_df.shape"
   ]
  },
  {
   "cell_type": "code",
   "execution_count": 40,
   "id": "b5098ce1",
   "metadata": {},
   "outputs": [
    {
     "name": "stdout",
     "output_type": "stream",
     "text": [
      "<class 'pandas.core.frame.DataFrame'>\n",
      "RangeIndex: 4000 entries, 1 to 4000\n",
      "Data columns (total 13 columns):\n",
      " #   Column                               Non-Null Count  Dtype \n",
      "---  ------                               --------------  ----- \n",
      " 0   customer_id                          4000 non-null   object\n",
      " 1   first_name                           4000 non-null   object\n",
      " 2   last_name                            3875 non-null   object\n",
      " 3   gender                               4000 non-null   object\n",
      " 4   past_3_years_bike_related_purchases  4000 non-null   object\n",
      " 5   DOB                                  3913 non-null   object\n",
      " 6   job_title                            3494 non-null   object\n",
      " 7   job_industry_category                3344 non-null   object\n",
      " 8   wealth_segment                       4000 non-null   object\n",
      " 9   deceased_indicator                   4000 non-null   object\n",
      " 10  default                              3698 non-null   object\n",
      " 11  owns_car                             4000 non-null   object\n",
      " 12  tenure                               3913 non-null   object\n",
      "dtypes: object(13)\n",
      "memory usage: 406.4+ KB\n"
     ]
    }
   ],
   "source": [
    "# Information of the data\n",
    "cd_df.info()"
   ]
  },
  {
   "cell_type": "markdown",
   "id": "2cc4162b",
   "metadata": {},
   "source": [
    "- There are missing values in the data.\n",
    "- Some of the columns are formatted with the wrong data type"
   ]
  },
  {
   "cell_type": "markdown",
   "id": "65d558fe",
   "metadata": {},
   "source": [
    "### Format column data type correctly"
   ]
  },
  {
   "cell_type": "code",
   "execution_count": 41,
   "id": "1df27f8b",
   "metadata": {},
   "outputs": [],
   "source": [
    "#Convert DOB to dataetime\n",
    "cd_df[\"DOB\"] = pd.to_datetime(cd_df.DOB)"
   ]
  },
  {
   "cell_type": "code",
   "execution_count": 42,
   "id": "bb6b3f43",
   "metadata": {},
   "outputs": [],
   "source": [
    "# Convert past_3_years_bike_related_purchases, customer id and tenure columns to integer type\n",
    "cd_df[[\"past_3_years_bike_related_purchases\", \"tenure\", \"customer_id\"]] = cd_df[[\"past_3_years_bike_related_purchases\", \"tenure\", \"customer_id\"]].astype(float)"
   ]
  },
  {
   "cell_type": "code",
   "execution_count": 43,
   "id": "d33d3fbf",
   "metadata": {},
   "outputs": [
    {
     "data": {
      "text/plain": [
       "Index(['customer_id', 'first_name', 'last_name', 'gender',\n",
       "       'past_3_years_bike_related_purchases', 'DOB', 'job_title',\n",
       "       'job_industry_category', 'wealth_segment', 'deceased_indicator',\n",
       "       'default', 'owns_car', 'tenure'],\n",
       "      dtype='object', name=0)"
      ]
     },
     "execution_count": 43,
     "metadata": {},
     "output_type": "execute_result"
    }
   ],
   "source": [
    "#Columns\n",
    "cd_df.columns"
   ]
  },
  {
   "cell_type": "code",
   "execution_count": 44,
   "id": "c069e776",
   "metadata": {},
   "outputs": [
    {
     "name": "stdout",
     "output_type": "stream",
     "text": [
      "<class 'pandas.core.frame.DataFrame'>\n",
      "RangeIndex: 4000 entries, 1 to 4000\n",
      "Data columns (total 13 columns):\n",
      " #   Column                               Non-Null Count  Dtype         \n",
      "---  ------                               --------------  -----         \n",
      " 0   customer_id                          4000 non-null   float64       \n",
      " 1   first_name                           4000 non-null   object        \n",
      " 2   last_name                            3875 non-null   object        \n",
      " 3   gender                               4000 non-null   object        \n",
      " 4   past_3_years_bike_related_purchases  4000 non-null   float64       \n",
      " 5   DOB                                  3913 non-null   datetime64[ns]\n",
      " 6   job_title                            3494 non-null   object        \n",
      " 7   job_industry_category                3344 non-null   object        \n",
      " 8   wealth_segment                       4000 non-null   object        \n",
      " 9   deceased_indicator                   4000 non-null   object        \n",
      " 10  default                              3698 non-null   object        \n",
      " 11  owns_car                             4000 non-null   object        \n",
      " 12  tenure                               3913 non-null   float64       \n",
      "dtypes: datetime64[ns](1), float64(3), object(9)\n",
      "memory usage: 406.4+ KB\n"
     ]
    }
   ],
   "source": [
    "cd_df.info()"
   ]
  },
  {
   "cell_type": "code",
   "execution_count": 45,
   "id": "094da156",
   "metadata": {},
   "outputs": [],
   "source": [
    "#Remove redudant column (default)\n",
    "cd_df.drop(\"default\", axis = 1, inplace = True)"
   ]
  },
  {
   "cell_type": "code",
   "execution_count": 46,
   "id": "b8268818",
   "metadata": {},
   "outputs": [
    {
     "name": "stdout",
     "output_type": "stream",
     "text": [
      "Gender: \n",
      " ['F' 'Male' 'Female' 'U' 'Femal' 'M']\n"
     ]
    }
   ],
   "source": [
    "# Check for unique values in the gender column\n",
    "print(\"Gender: \\n\", cd_df.gender.unique())"
   ]
  },
  {
   "cell_type": "code",
   "execution_count": 47,
   "id": "91d30702",
   "metadata": {},
   "outputs": [
    {
     "name": "stdout",
     "output_type": "stream",
     "text": [
      "Gender: \n",
      " ['Female' 'Male' 'Unknown']\n"
     ]
    }
   ],
   "source": [
    "# Format the gender column values correctly\n",
    "cd_df.gender.replace([\"F\",\"Femal\"], \"Female\", inplace = True)\n",
    "cd_df.gender.replace(\"M\", \"Male\", inplace = True)\n",
    "cd_df.gender.replace(\"U\", \"Unknown\", inplace = True)\n",
    "print(\"Gender: \\n\", cd_df.gender.unique())"
   ]
  },
  {
   "cell_type": "code",
   "execution_count": 48,
   "id": "a5cc83bf",
   "metadata": {},
   "outputs": [
    {
     "name": "stdout",
     "output_type": "stream",
     "text": [
      "Missing values: \n"
     ]
    },
    {
     "data": {
      "text/plain": [
       "0\n",
       "last_name                125.0\n",
       "DOB                       87.0\n",
       "job_title                506.0\n",
       "job_industry_category    656.0\n",
       "tenure                    87.0\n",
       "dtype: float64"
      ]
     },
     "execution_count": 48,
     "metadata": {},
     "output_type": "execute_result"
    }
   ],
   "source": [
    "# Check for missing values\n",
    "def missing_values(x):\n",
    "    return (sum(x.isna()))\n",
    "print(\"Missing values: \")\n",
    "\n",
    "cd_df.apply(missing_values).where(lambda x : x != 0).dropna()"
   ]
  },
  {
   "cell_type": "code",
   "execution_count": 49,
   "id": "684fc8ca",
   "metadata": {},
   "outputs": [
    {
     "data": {
      "text/plain": [
       "0"
      ]
     },
     "execution_count": 49,
     "metadata": {},
     "output_type": "execute_result"
    }
   ],
   "source": [
    "#Check for duplicates\n",
    "cd_df.duplicated().sum()"
   ]
  },
  {
   "cell_type": "code",
   "execution_count": 50,
   "id": "31505307",
   "metadata": {},
   "outputs": [],
   "source": [
    "#Fill in missing values\n",
    "cd_df[\"tenure\"] = cd_df[\"tenure\"].fillna(cd_df[\"tenure\"].mode()[0])\n",
    "cd_df[\"job_title\"] = cd_df[\"job_title\"].fillna(cd_df[\"job_title\"].mode()[0])\n",
    "cd_df[\"job_industry_category\"] = cd_df[\"job_industry_category\"].fillna(cd_df[\"job_industry_category\"].mode()[0])"
   ]
  },
  {
   "cell_type": "code",
   "execution_count": 51,
   "id": "2b86f078",
   "metadata": {},
   "outputs": [
    {
     "name": "stdout",
     "output_type": "stream",
     "text": [
      "<class 'pandas.core.frame.DataFrame'>\n",
      "RangeIndex: 4000 entries, 1 to 4000\n",
      "Data columns (total 12 columns):\n",
      " #   Column                               Non-Null Count  Dtype         \n",
      "---  ------                               --------------  -----         \n",
      " 0   customer_id                          4000 non-null   float64       \n",
      " 1   first_name                           4000 non-null   object        \n",
      " 2   last_name                            3875 non-null   object        \n",
      " 3   gender                               4000 non-null   object        \n",
      " 4   past_3_years_bike_related_purchases  4000 non-null   float64       \n",
      " 5   DOB                                  3913 non-null   datetime64[ns]\n",
      " 6   job_title                            4000 non-null   object        \n",
      " 7   job_industry_category                4000 non-null   object        \n",
      " 8   wealth_segment                       4000 non-null   object        \n",
      " 9   deceased_indicator                   4000 non-null   object        \n",
      " 10  owns_car                             4000 non-null   object        \n",
      " 11  tenure                               4000 non-null   float64       \n",
      "dtypes: datetime64[ns](1), float64(3), object(8)\n",
      "memory usage: 375.1+ KB\n"
     ]
    }
   ],
   "source": [
    "# Check the information after cleaning\n",
    "cd_df.info()"
   ]
  },
  {
   "cell_type": "markdown",
   "id": "b28450f9",
   "metadata": {},
   "source": [
    "### Conclusion:\n",
    "The last name and Date of Birth columns still have missing values, we cannot make assumptions on this but the missing values can be replaced with Unknown or the columns remove if they are not necessary in the analysis of the data."
   ]
  },
  {
   "cell_type": "markdown",
   "id": "b83c08bc",
   "metadata": {},
   "source": [
    "#  4.Data Quality and Assessment of Customer Address data"
   ]
  },
  {
   "cell_type": "code",
   "execution_count": 52,
   "id": "e46dacbf",
   "metadata": {},
   "outputs": [
    {
     "data": {
      "text/html": [
       "<div>\n",
       "<style scoped>\n",
       "    .dataframe tbody tr th:only-of-type {\n",
       "        vertical-align: middle;\n",
       "    }\n",
       "\n",
       "    .dataframe tbody tr th {\n",
       "        vertical-align: top;\n",
       "    }\n",
       "\n",
       "    .dataframe thead th {\n",
       "        text-align: right;\n",
       "    }\n",
       "</style>\n",
       "<table border=\"1\" class=\"dataframe\">\n",
       "  <thead>\n",
       "    <tr style=\"text-align: right;\">\n",
       "      <th></th>\n",
       "      <th>customer_id</th>\n",
       "      <th>address</th>\n",
       "      <th>postcode</th>\n",
       "      <th>state</th>\n",
       "      <th>country</th>\n",
       "      <th>property_valuation</th>\n",
       "    </tr>\n",
       "  </thead>\n",
       "  <tbody>\n",
       "    <tr>\n",
       "      <th>0</th>\n",
       "      <td>customer_id</td>\n",
       "      <td>address</td>\n",
       "      <td>postcode</td>\n",
       "      <td>state</td>\n",
       "      <td>country</td>\n",
       "      <td>property_valuation</td>\n",
       "    </tr>\n",
       "    <tr>\n",
       "      <th>1</th>\n",
       "      <td>1</td>\n",
       "      <td>060 Morning Avenue</td>\n",
       "      <td>2016</td>\n",
       "      <td>New South Wales</td>\n",
       "      <td>Australia</td>\n",
       "      <td>10</td>\n",
       "    </tr>\n",
       "    <tr>\n",
       "      <th>2</th>\n",
       "      <td>2</td>\n",
       "      <td>6 Meadow Vale Court</td>\n",
       "      <td>2153</td>\n",
       "      <td>New South Wales</td>\n",
       "      <td>Australia</td>\n",
       "      <td>10</td>\n",
       "    </tr>\n",
       "    <tr>\n",
       "      <th>3</th>\n",
       "      <td>4</td>\n",
       "      <td>0 Holy Cross Court</td>\n",
       "      <td>4211</td>\n",
       "      <td>QLD</td>\n",
       "      <td>Australia</td>\n",
       "      <td>9</td>\n",
       "    </tr>\n",
       "    <tr>\n",
       "      <th>4</th>\n",
       "      <td>5</td>\n",
       "      <td>17979 Del Mar Point</td>\n",
       "      <td>2448</td>\n",
       "      <td>New South Wales</td>\n",
       "      <td>Australia</td>\n",
       "      <td>4</td>\n",
       "    </tr>\n",
       "  </tbody>\n",
       "</table>\n",
       "</div>"
      ],
      "text/plain": [
       "0  customer_id              address  postcode            state    country  \\\n",
       "0  customer_id              address  postcode            state    country   \n",
       "1            1   060 Morning Avenue      2016  New South Wales  Australia   \n",
       "2            2  6 Meadow Vale Court      2153  New South Wales  Australia   \n",
       "3            4   0 Holy Cross Court      4211              QLD  Australia   \n",
       "4            5  17979 Del Mar Point      2448  New South Wales  Australia   \n",
       "\n",
       "0  property_valuation  \n",
       "0  property_valuation  \n",
       "1                  10  \n",
       "2                  10  \n",
       "3                   9  \n",
       "4                   4  "
      ]
     },
     "execution_count": 52,
     "metadata": {},
     "output_type": "execute_result"
    }
   ],
   "source": [
    "ca_df.head()"
   ]
  },
  {
   "cell_type": "code",
   "execution_count": 53,
   "id": "45048fd6",
   "metadata": {},
   "outputs": [],
   "source": [
    "# remove first row\n",
    "ca_df.drop(index = ca_df.index[0], inplace = True)"
   ]
  },
  {
   "cell_type": "code",
   "execution_count": 54,
   "id": "03abb317",
   "metadata": {},
   "outputs": [
    {
     "data": {
      "text/html": [
       "<div>\n",
       "<style scoped>\n",
       "    .dataframe tbody tr th:only-of-type {\n",
       "        vertical-align: middle;\n",
       "    }\n",
       "\n",
       "    .dataframe tbody tr th {\n",
       "        vertical-align: top;\n",
       "    }\n",
       "\n",
       "    .dataframe thead th {\n",
       "        text-align: right;\n",
       "    }\n",
       "</style>\n",
       "<table border=\"1\" class=\"dataframe\">\n",
       "  <thead>\n",
       "    <tr style=\"text-align: right;\">\n",
       "      <th></th>\n",
       "      <th>customer_id</th>\n",
       "      <th>address</th>\n",
       "      <th>postcode</th>\n",
       "      <th>state</th>\n",
       "      <th>country</th>\n",
       "      <th>property_valuation</th>\n",
       "    </tr>\n",
       "  </thead>\n",
       "  <tbody>\n",
       "    <tr>\n",
       "      <th>count</th>\n",
       "      <td>3999</td>\n",
       "      <td>3999</td>\n",
       "      <td>3999</td>\n",
       "      <td>3999</td>\n",
       "      <td>3999</td>\n",
       "      <td>3999</td>\n",
       "    </tr>\n",
       "    <tr>\n",
       "      <th>unique</th>\n",
       "      <td>3999</td>\n",
       "      <td>3996</td>\n",
       "      <td>873</td>\n",
       "      <td>5</td>\n",
       "      <td>1</td>\n",
       "      <td>12</td>\n",
       "    </tr>\n",
       "    <tr>\n",
       "      <th>top</th>\n",
       "      <td>1</td>\n",
       "      <td>3 Mariners Cove Terrace</td>\n",
       "      <td>2170</td>\n",
       "      <td>NSW</td>\n",
       "      <td>Australia</td>\n",
       "      <td>9</td>\n",
       "    </tr>\n",
       "    <tr>\n",
       "      <th>freq</th>\n",
       "      <td>1</td>\n",
       "      <td>2</td>\n",
       "      <td>31</td>\n",
       "      <td>2054</td>\n",
       "      <td>3999</td>\n",
       "      <td>647</td>\n",
       "    </tr>\n",
       "  </tbody>\n",
       "</table>\n",
       "</div>"
      ],
      "text/plain": [
       "0       customer_id                  address  postcode state    country  \\\n",
       "count          3999                     3999      3999  3999       3999   \n",
       "unique         3999                     3996       873     5          1   \n",
       "top               1  3 Mariners Cove Terrace      2170   NSW  Australia   \n",
       "freq              1                        2        31  2054       3999   \n",
       "\n",
       "0       property_valuation  \n",
       "count                 3999  \n",
       "unique                  12  \n",
       "top                      9  \n",
       "freq                   647  "
      ]
     },
     "execution_count": 54,
     "metadata": {},
     "output_type": "execute_result"
    }
   ],
   "source": [
    "# Statistical description of the data\n",
    "ca_df.describe()"
   ]
  },
  {
   "cell_type": "code",
   "execution_count": 55,
   "id": "fece65a5",
   "metadata": {},
   "outputs": [
    {
     "name": "stdout",
     "output_type": "stream",
     "text": [
      "<class 'pandas.core.frame.DataFrame'>\n",
      "RangeIndex: 3999 entries, 1 to 3999\n",
      "Data columns (total 6 columns):\n",
      " #   Column              Non-Null Count  Dtype \n",
      "---  ------              --------------  ----- \n",
      " 0   customer_id         3999 non-null   object\n",
      " 1   address             3999 non-null   object\n",
      " 2   postcode            3999 non-null   object\n",
      " 3   state               3999 non-null   object\n",
      " 4   country             3999 non-null   object\n",
      " 5   property_valuation  3999 non-null   object\n",
      "dtypes: object(6)\n",
      "memory usage: 187.6+ KB\n"
     ]
    }
   ],
   "source": [
    "# The information of the data\n",
    "ca_df.info()"
   ]
  },
  {
   "cell_type": "markdown",
   "id": "c9137d01",
   "metadata": {},
   "source": [
    "- From the entries information of the data: No missing values in the data"
   ]
  },
  {
   "cell_type": "code",
   "execution_count": 56,
   "id": "2e7b976e",
   "metadata": {},
   "outputs": [
    {
     "data": {
      "text/plain": [
       "0"
      ]
     },
     "execution_count": 56,
     "metadata": {},
     "output_type": "execute_result"
    }
   ],
   "source": [
    "#Check for duplicates\n",
    "ca_df.duplicated().sum()"
   ]
  },
  {
   "cell_type": "code",
   "execution_count": 57,
   "id": "39da5304",
   "metadata": {},
   "outputs": [],
   "source": [
    "# Format columns with correct data type\n",
    "ca_df[[\"customer_id\", \"postcode\", \"property_valuation\"]] = ca_df[[\"customer_id\", \"postcode\", \"property_valuation\"]].astype(int)"
   ]
  },
  {
   "cell_type": "code",
   "execution_count": 58,
   "id": "0d9c3080",
   "metadata": {},
   "outputs": [
    {
     "name": "stdout",
     "output_type": "stream",
     "text": [
      "<class 'pandas.core.frame.DataFrame'>\n",
      "RangeIndex: 3999 entries, 1 to 3999\n",
      "Data columns (total 6 columns):\n",
      " #   Column              Non-Null Count  Dtype \n",
      "---  ------              --------------  ----- \n",
      " 0   customer_id         3999 non-null   int32 \n",
      " 1   address             3999 non-null   object\n",
      " 2   postcode            3999 non-null   int32 \n",
      " 3   state               3999 non-null   object\n",
      " 4   country             3999 non-null   object\n",
      " 5   property_valuation  3999 non-null   int32 \n",
      "dtypes: int32(3), object(3)\n",
      "memory usage: 140.7+ KB\n"
     ]
    }
   ],
   "source": [
    "#Information\n",
    "ca_df.info()"
   ]
  },
  {
   "cell_type": "markdown",
   "id": "164b3e4c",
   "metadata": {},
   "source": [
    "# Overall Conclusion\n",
    "#### An email to the Client."
   ]
  },
  {
   "cell_type": "markdown",
   "id": "98da0190",
   "metadata": {},
   "source": [
    "Dear Client, \n",
    "\n",
    "I write to provide feedback on the data quality issues of the datasets you provided from your company and provide relevant strategies that would be helpful to mitigate these issues.\n",
    "\n",
    "The summary of the underlying issues is as follows for each dataset:\n",
    "##### Transaction data:\n",
    "- Incorrect column data type: The transaction date and product_first_sold_date columns are formatted as objects rather than date time.\n",
    "- list price, the id columns and standard cost columns are formatted as objects instead of floats\n",
    "- There are missing values for columns with counts less than the total entries.\n",
    "##### New Customer data:\n",
    "- Incorrect column data type: The DOB column is formatted as an object rather than date time. The past_3_years_bike_related_purchases, property_valuation, Rank, and Value columns are formatted as objects rather than integers or floats.\n",
    "- Redundant columns, which are unnamed and Nan’s.\n",
    "- There are missing values for columns with counts less than the total entries.\n",
    "##### Customer Demographic data\n",
    "- The DOB column is formatted as an object rather than a date time. The tenure, customer_id, and past_3_years_bike_related_purchases columns are formatted as objects rather than integers.\n",
    "- Inconsistent column values in the gender column. \n",
    "- There are missing values for columns with counts less than the total entries.\n",
    "##### Customer Address data:\n",
    "- Incorrect column data type formatting: customer_id, postcode, property_valuation are formatted as objects rather than integers.\n",
    "##### Conclusions on the Customer Demographic and New Customer datasets:\n",
    "The last name and Date of Birth columns still have missing values, we cannot make assumptions on this, but the missing values can be replaced with Unknown, or the columns removed if they are not necessary for the data analysis.\n",
    "\n",
    "##### Strategies to mitigate these data quality issues:\n",
    "- The company should fix the original data sources with the source system being set up to clean the data automatically before it enters the database.\n",
    "- Fix the customer data during the Extract, transform, and load process.\n",
    "- Use systems that automatically exclude incomplete entries.\n",
    "- Automate the data verification processes to identify and correct inconsistent data formats early.\n",
    "\n",
    "Yours Sincerely,\n",
    "\n",
    "Jane Wangari\n",
    "\n",
    "Intern Data Scientist KPMG Australia.\n"
   ]
  },
  {
   "cell_type": "code",
   "execution_count": null,
   "id": "eb11759e",
   "metadata": {},
   "outputs": [],
   "source": []
  }
 ],
 "metadata": {
  "kernelspec": {
   "display_name": "Python 3 (ipykernel)",
   "language": "python",
   "name": "python3"
  },
  "language_info": {
   "codemirror_mode": {
    "name": "ipython",
    "version": 3
   },
   "file_extension": ".py",
   "mimetype": "text/x-python",
   "name": "python",
   "nbconvert_exporter": "python",
   "pygments_lexer": "ipython3",
   "version": "3.9.12"
  }
 },
 "nbformat": 4,
 "nbformat_minor": 5
}
